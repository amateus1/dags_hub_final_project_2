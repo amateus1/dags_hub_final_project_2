{
 "cells": [
  {
   "cell_type": "code",
   "execution_count": 1,
   "id": "bf8d7675-add1-4750-bfdb-a8ee2ed25c6c",
   "metadata": {},
   "outputs": [],
   "source": [
    "import mlflow"
   ]
  },
  {
   "cell_type": "code",
   "execution_count": 2,
   "id": "cb835c89-14e0-4dcb-8e56-97f170a51051",
   "metadata": {},
   "outputs": [],
   "source": [
    "# Set the tracking URI\n",
    "mlflow.set_tracking_uri(\"http://127.0.0.1:5000\")"
   ]
  },
  {
   "cell_type": "code",
   "execution_count": 3,
   "id": "11063623-6467-46e7-8647-9416fc701061",
   "metadata": {},
   "outputs": [
    {
     "data": {
      "text/plain": [
       "<Experiment: artifact_location='mlflow-artifacts:/0', creation_time=1715609813890, experiment_id='0', last_update_time=1715609813890, lifecycle_stage='active', name='Default', tags={}>"
      ]
     },
     "execution_count": 3,
     "metadata": {},
     "output_type": "execute_result"
    }
   ],
   "source": [
    "# Optionally set or check the experiment\n",
    "mlflow.set_experiment(\"Default\")"
   ]
  },
  {
   "cell_type": "code",
   "execution_count": 4,
   "id": "5a4fae14-caf9-4ad3-921c-7a9932b6891f",
   "metadata": {},
   "outputs": [],
   "source": [
    "# Start a run\n",
    "with mlflow.start_run():\n",
    "    mlflow.log_param(\"test_param\", \"value\")\n",
    "    mlflow.log_metric(\"test_metric\", 0.99)"
   ]
  }
 ],
 "metadata": {
  "kernelspec": {
   "display_name": "Python 3 (ipykernel)",
   "language": "python",
   "name": "python3"
  },
  "language_info": {
   "codemirror_mode": {
    "name": "ipython",
    "version": 3
   },
   "file_extension": ".py",
   "mimetype": "text/x-python",
   "name": "python",
   "nbconvert_exporter": "python",
   "pygments_lexer": "ipython3",
   "version": "3.11.5"
  }
 },
 "nbformat": 4,
 "nbformat_minor": 5
}
